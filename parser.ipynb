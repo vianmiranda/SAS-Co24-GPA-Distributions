{
 "cells": [
  {
   "cell_type": "code",
   "execution_count": 1,
   "metadata": {},
   "outputs": [],
   "source": [
    "# import requests\n",
    "import json\n",
    "import matplotlib.pyplot as plt\n",
    "import math"
   ]
  },
  {
   "cell_type": "code",
   "execution_count": 2,
   "metadata": {},
   "outputs": [],
   "source": [
    "# API = 'https://celebration2024.sas.rutgers.edu/data/graduates.json' # no longer has gpa information\n",
    "LOCAL_JSON = 'gpa.json' # local file to store the data if api is down\n",
    "MAJOR = -1 # major to filter by (ie. 198 for cs), -1 for all majors"
   ]
  },
  {
   "cell_type": "code",
   "execution_count": null,
   "metadata": {},
   "outputs": [],
   "source": [
    "# req = requests.get(API)\n",
    "\n",
    "# data = None\n",
    "# if (req.status_code == 200):\n",
    "#     data = req.json()\n",
    "# else:\n",
    "#     print('Error: Could not retrieve data from the server. Fetching from local file.')\n",
    "\n",
    "with open(LOCAL_JSON , 'r') as f:\n",
    "    data = json.load(f)\n",
    "    \n",
    "data"
   ]
  },
  {
   "cell_type": "code",
   "execution_count": 4,
   "metadata": {},
   "outputs": [
    {
     "name": "stdout",
     "output_type": "stream",
     "text": [
      "GPA Frequency\n",
      "-------------\n",
      "1.8-1.9 : 6\n",
      "1.9-2.0 : 8\n",
      "2.0-2.1 : 24\n",
      "2.1-2.2 : 36\n",
      "2.2-2.3 : 50\n",
      "2.3-2.4 : 64\n",
      "2.4-2.5 : 66\n",
      "2.5-2.6 : 114\n",
      "2.6-2.7 : 150\n",
      "2.7-2.8 : 171\n",
      "2.8-2.9 : 178\n",
      "2.9-3.0 : 236\n",
      "3.0-3.1 : 295\n",
      "3.1-3.2 : 308\n",
      "3.2-3.3 : 308\n",
      "3.3-3.4 : 363\n",
      "3.4-3.5 : 406\n",
      "3.5-3.6 : 442\n",
      "3.6-3.7 : 453\n",
      "3.7-3.8 : 409\n",
      "3.8-3.9 : 454\n",
      "3.9-4.0 : 410\n",
      "4.0\t: 148\n"
     ]
    }
   ],
   "source": [
    "def datalyzer(major=-1, precision=1, printer=False):\n",
    "    freq = {}\n",
    "    for x in range(0, len(data)):\n",
    "        if major != -1 and data[x]['MAJ1'] != str(major):\n",
    "            continue\n",
    "        gpa = float(data[x]['GPA'])\n",
    "        less_precise_gpa = math.floor(gpa * 10) / 10\n",
    "        if less_precise_gpa in freq:\n",
    "            freq[less_precise_gpa] += 1\n",
    "        else:\n",
    "            freq[less_precise_gpa] = 1\n",
    "\n",
    "    if printer:\n",
    "        print('GPA Frequency')\n",
    "        print('-------------')\n",
    "        for i in range(10, 41, 1):\n",
    "            key = float(i)/10\n",
    "            if key in freq:\n",
    "                if key == 4.0:\n",
    "                    print(f'{str(key)}\\t: {str(freq[key])}')\n",
    "                else:\n",
    "                    print(f'{str(key)}-{str(math.floor((key+0.1)*10)/10)} : {str(freq[key])}')\n",
    "\n",
    "    return freq\n",
    "\n",
    "freq = datalyzer(major=MAJOR, printer=True)"
   ]
  },
  {
   "cell_type": "code",
   "execution_count": 5,
   "metadata": {},
   "outputs": [
    {
     "data": {
      "image/png": "[encoded data removed]",
      "text/plain": [
       "<Figure size 640x480 with 1 Axes>"
      ]
     },
     "metadata": {},
     "output_type": "display_data"
    }
   ],
   "source": [
    "gpa_intervals = list(freq.keys())\n",
    "gpa_frequencies = list(freq.values())\n",
    "\n",
    "plt.bar(gpa_intervals, gpa_frequencies, width=0.05)\n",
    "\n",
    "plt.xlabel('GPA')\n",
    "plt.ylabel('Frequency')\n",
    "plt.title(f'GPA Frequency - Major: {MAJOR if MAJOR != -1 else \"All\"}')\n",
    "\n",
    "plt.show()"
   ]
  }
 ],
 "metadata": {
  "kernelspec": {
   "display_name": "Python 3",
   "language": "python",
   "name": "python3"
  },
  "language_info": {
   "codemirror_mode": {
    "name": "ipython",
    "version": 3
   },
   "file_extension": ".py",
   "mimetype": "text/x-python",
   "name": "python",
   "nbconvert_exporter": "python",
   "pygments_lexer": "ipython3",
   "version": "3.10.9"
  }
 },
 "nbformat": 4,
 "nbformat_minor": 2
}
